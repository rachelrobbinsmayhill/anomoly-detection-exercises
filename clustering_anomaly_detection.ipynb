{
 "cells": [
  {
   "cell_type": "markdown",
   "id": "9bcba9f5-b909-4a55-ad27-1f1451fbadb1",
   "metadata": {},
   "source": [
    "# Clustering - DBSCAN"
   ]
  },
  {
   "cell_type": "markdown",
   "id": "c8dca2e4-c8cb-4117-a091-b0833af2659c",
   "metadata": {},
   "source": [
    "1. Use DBSCAN to detect anomalies in other products from the customers dataset. The database name is grocery_db."
   ]
  },
  {
   "cell_type": "code",
   "execution_count": null,
   "id": "90f2b5b7-1ada-4732-b350-34d671ee600a",
   "metadata": {},
   "outputs": [],
   "source": []
  },
  {
   "cell_type": "markdown",
   "id": "b52e48de-3823-4a89-87ca-9da2b0ac0ee1",
   "metadata": {},
   "source": [
    "2. Use DBSCAN to detect anomalies in requests from the curriculum access logs in the curriculum_logs database."
   ]
  },
  {
   "cell_type": "code",
   "execution_count": null,
   "id": "81e9dbed-c957-4db0-881a-befc2ff9bcbf",
   "metadata": {},
   "outputs": [],
   "source": []
  },
  {
   "cell_type": "markdown",
   "id": "38c388c3-dd0c-4c9f-a77d-99bdb07817c8",
   "metadata": {},
   "source": [
    "3. Use DBSCAN to detect anomalies in number of bedrooms and finished square feet of property for the filtered dataset you used in the clustering project (single unit properties with a logerror)."
   ]
  },
  {
   "cell_type": "code",
   "execution_count": null,
   "id": "0eb9119e-b71e-4f55-b521-84e99b8e3bdf",
   "metadata": {},
   "outputs": [],
   "source": []
  }
 ],
 "metadata": {
  "kernelspec": {
   "display_name": "Python 3 (ipykernel)",
   "language": "python",
   "name": "python3"
  },
  "language_info": {
   "codemirror_mode": {
    "name": "ipython",
    "version": 3
   },
   "file_extension": ".py",
   "mimetype": "text/x-python",
   "name": "python",
   "nbconvert_exporter": "python",
   "pygments_lexer": "ipython3",
   "version": "3.9.7"
  }
 },
 "nbformat": 4,
 "nbformat_minor": 5
}
