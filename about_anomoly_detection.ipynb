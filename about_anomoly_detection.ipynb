{
 "cells": [
  {
   "cell_type": "markdown",
   "id": "e0007cb8-b5b0-4413-963d-990ea006fff3",
   "metadata": {},
   "source": [
    "# About Anomoly Detection"
   ]
  },
  {
   "cell_type": "markdown",
   "id": "88303ab2-2429-4164-a56e-f0bf92ea5735",
   "metadata": {},
   "source": [
    "1. Take a few minutes and jot down some example applications, specific problems, or domains where detecting anomalies is super valuable and impactful."
   ]
  },
  {
   "cell_type": "markdown",
   "id": "cb6d4630-a0f1-43ec-993a-91a38bcfe2ad",
   "metadata": {},
   "source": [
    "1. IT\n",
    "- Intrusion Detections (malware/system security)\n",
    "- Monitoring for network traffic surges and drops\n",
    "    \n",
    "    \n",
    "    \n",
    "2. Banking & Insurance\n",
    "- Fraud detection (creidt cards/insurance)\n",
    "- Stock Market analysis\n",
    "- Early detection of insider trading\n",
    "\n",
    "\n",
    "\n",
    "3. Manufacturing * Industry, Construction, Agriculture\n",
    "- Predictive maintenance (analyzing data from multiple sensors)\n",
    "- Fault/damage detection\n",
    "- Service fraud\n",
    "   \n",
    "   \n",
    "   \n",
    "4. Healthcare\n",
    "- Condition monitoring (seizure or tumor detection)\n",
    "- Diagnosis\n",
    "- Disorder detection\n",
    "    \n",
    "    \n",
    "    \n",
    "5. Public Sector\n",
    "- Detecting unusual images from surveillance\n",
    " \n",
    " \n",
    " \n",
    "6. Business\n",
    "- Identify highest ROI customer profiles\n",
    "- Identify underrated marketing/advertising elements\n",
    "- identify financial anomolies to save money\n",
    "    - overspending by department\n",
    "    - CMP tools costing too much\n",
    "    - Which departments deliver highest ROI\n"
   ]
  },
  {
   "cell_type": "markdown",
   "id": "2063a485-b60d-461d-a805-25a057cbc5dd",
   "metadata": {},
   "source": [
    "Identify a few example applications, specific problems, or domains where the outliers can skew the data in a negative way and those outliers may be safely avoided for producing a model."
   ]
  },
  {
   "cell_type": "markdown",
   "id": "c173f8b2-583f-48ea-86f4-0388c367d43e",
   "metadata": {},
   "source": [
    "1. Financial Domains\n",
    "- Financial outliers could skew the data, and have a negative impact on seeing the data picture, OR they could be an anomoly to pay attention to. "
   ]
  }
 ],
 "metadata": {
  "kernelspec": {
   "display_name": "Python 3 (ipykernel)",
   "language": "python",
   "name": "python3"
  },
  "language_info": {
   "codemirror_mode": {
    "name": "ipython",
    "version": 3
   },
   "file_extension": ".py",
   "mimetype": "text/x-python",
   "name": "python",
   "nbconvert_exporter": "python",
   "pygments_lexer": "ipython3",
   "version": "3.9.7"
  }
 },
 "nbformat": 4,
 "nbformat_minor": 5
}
